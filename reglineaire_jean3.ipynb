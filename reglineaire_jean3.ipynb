{
 "cells": [
  {
   "cell_type": "code",
   "execution_count": 1,
   "id": "37eef56e-7270-4287-b0d0-b2725ba2a283",
   "metadata": {},
   "outputs": [],
   "source": [
    "import pandas as pd\n",
    "import numpy as np\n",
    "import seaborn as sns\n",
    "import matplotlib.pyplot as plt\n",
    "import plotly.express as px\n",
    "from scipy.stats import ttest_1samp"
   ]
  },
  {
   "cell_type": "code",
   "execution_count": 2,
   "id": "ae8553f8-89c0-4ce9-9ac6-7ec58ca1c9d1",
   "metadata": {},
   "outputs": [],
   "source": [
    "df = pd.read_csv('50_Startups.csv', delimiter=';')"
   ]
  },
  {
   "cell_type": "code",
   "execution_count": 3,
   "id": "0bca8e7c-48d6-4867-8e53-6e3f938821b7",
   "metadata": {},
   "outputs": [],
   "source": [
    "X = df.drop(['Profit'],axis=1)\n",
    "\n",
    "y = df['Profit']\n",
    "y=y.astype('float64')"
   ]
  },
  {
   "cell_type": "markdown",
   "id": "bf20f89f-a65b-4335-8408-5682424937a0",
   "metadata": {},
   "source": [
    "### On encode la ville afin de pouvoir utiliser la feature selection qui sinon ne marche pas avec les chaines de caractères"
   ]
  },
  {
   "cell_type": "code",
   "execution_count": 4,
   "id": "53f54d71-fe42-4200-9807-041843f76eb9",
   "metadata": {},
   "outputs": [],
   "source": [
    "from sklearn.preprocessing import LabelEncoder\n",
    "labelencoder = LabelEncoder()\n",
    "X['villes'] = labelencoder.fit_transform(X['villes'])"
   ]
  },
  {
   "cell_type": "markdown",
   "id": "8f92c29b-b58e-4451-8c0c-3f78a4510173",
   "metadata": {},
   "source": [
    "### Utilisation de SelectKBest avec f_regression"
   ]
  },
  {
   "cell_type": "code",
   "execution_count": 5,
   "id": "b0226e6b-8220-4b86-92f6-c427c5b25394",
   "metadata": {},
   "outputs": [
    {
     "data": {
      "text/plain": [
       "(array([849.7889044 ,   2.01495972,  60.88145448,   1.13261424]),\n",
       " array([3.50032224e-32, 1.62217395e-01, 4.38107318e-10, 2.92543007e-01]))"
      ]
     },
     "execution_count": 5,
     "metadata": {},
     "output_type": "execute_result"
    }
   ],
   "source": [
    "from sklearn.feature_selection import SelectKBest, f_regression\n",
    "f_regression(X,y)"
   ]
  },
  {
   "cell_type": "code",
   "execution_count": 6,
   "id": "cfb62e08-9722-4cff-9515-f510dbf5ddd4",
   "metadata": {},
   "outputs": [
    {
     "data": {
      "text/plain": [
       "Index(['R&D', 'Administration', 'Marketing', 'villes'], dtype='object')"
      ]
     },
     "execution_count": 6,
     "metadata": {},
     "output_type": "execute_result"
    }
   ],
   "source": [
    "X.columns"
   ]
  },
  {
   "cell_type": "code",
   "execution_count": null,
   "id": "a8a76ad9-74f7-4cdf-bae0-c606be96ff09",
   "metadata": {},
   "outputs": [],
   "source": []
  }
 ],
 "metadata": {
  "kernelspec": {
   "display_name": "Python 3 (ipykernel)",
   "language": "python",
   "name": "python3"
  },
  "language_info": {
   "codemirror_mode": {
    "name": "ipython",
    "version": 3
   },
   "file_extension": ".py",
   "mimetype": "text/x-python",
   "name": "python",
   "nbconvert_exporter": "python",
   "pygments_lexer": "ipython3",
   "version": "3.9.7"
  }
 },
 "nbformat": 4,
 "nbformat_minor": 5
}
