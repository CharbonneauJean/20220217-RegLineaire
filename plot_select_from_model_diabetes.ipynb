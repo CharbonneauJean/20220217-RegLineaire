{
 "cells": [
  {
   "cell_type": "code",
   "execution_count": 1,
   "metadata": {
    "collapsed": false,
    "jupyter": {
     "outputs_hidden": false
    }
   },
   "outputs": [],
   "source": [
    "%matplotlib inline"
   ]
  },
  {
   "cell_type": "markdown",
   "metadata": {},
   "source": [
    "\n",
    "# Model-based and sequential feature selection\n",
    "\n",
    "This example illustrates and compares two approaches for feature selection:\n",
    ":class:`~sklearn.feature_selection.SelectFromModel` which is based on feature\n",
    "importance, and\n",
    ":class:`~sklearn.feature_selection.SequentialFeatureSelection` which relies\n",
    "on a greedy approach.\n",
    "\n",
    "We use the Diabetes dataset, which consists of 10 features collected from 442\n",
    "diabetes patients.\n",
    "\n",
    "Authors: `Manoj Kumar <mks542@nyu.edu>`_,\n",
    "`Maria Telenczuk <https://github.com/maikia>`_, Nicolas Hug.\n",
    "\n",
    "License: BSD 3 clause\n"
   ]
  },
  {
   "cell_type": "markdown",
   "metadata": {},
   "source": [
    "## Loading the data\n",
    "\n",
    "We first load the diabetes dataset which is available from within\n",
    "scikit-learn, and print its description:\n",
    "\n"
   ]
  },
  {
   "cell_type": "code",
   "execution_count": 2,
   "metadata": {
    "collapsed": false,
    "jupyter": {
     "outputs_hidden": false
    }
   },
   "outputs": [
    {
     "name": "stdout",
     "output_type": "stream",
     "text": [
      ".. _diabetes_dataset:\n",
      "\n",
      "Diabetes dataset\n",
      "----------------\n",
      "\n",
      "Ten baseline variables, age, sex, body mass index, average blood\n",
      "pressure, and six blood serum measurements were obtained for each of n =\n",
      "442 diabetes patients, as well as the response of interest, a\n",
      "quantitative measure of disease progression one year after baseline.\n",
      "\n",
      "**Data Set Characteristics:**\n",
      "\n",
      "  :Number of Instances: 442\n",
      "\n",
      "  :Number of Attributes: First 10 columns are numeric predictive values\n",
      "\n",
      "  :Target: Column 11 is a quantitative measure of disease progression one year after baseline\n",
      "\n",
      "  :Attribute Information:\n",
      "      - age     age in years\n",
      "      - sex\n",
      "      - bmi     body mass index\n",
      "      - bp      average blood pressure\n",
      "      - s1      tc, total serum cholesterol\n",
      "      - s2      ldl, low-density lipoproteins\n",
      "      - s3      hdl, high-density lipoproteins\n",
      "      - s4      tch, total cholesterol / HDL\n",
      "      - s5      ltg, possibly log of serum triglycerides level\n",
      "      - s6      glu, blood sugar level\n",
      "\n",
      "Note: Each of these 10 feature variables have been mean centered and scaled by the standard deviation times `n_samples` (i.e. the sum of squares of each column totals 1).\n",
      "\n",
      "Source URL:\n",
      "https://www4.stat.ncsu.edu/~boos/var.select/diabetes.html\n",
      "\n",
      "For more information see:\n",
      "Bradley Efron, Trevor Hastie, Iain Johnstone and Robert Tibshirani (2004) \"Least Angle Regression,\" Annals of Statistics (with discussion), 407-499.\n",
      "(https://web.stanford.edu/~hastie/Papers/LARS/LeastAngle_2002.pdf)\n"
     ]
    }
   ],
   "source": [
    "from sklearn.datasets import load_diabetes\n",
    "\n",
    "diabetes = load_diabetes()\n",
    "X, y = diabetes.data, diabetes.target\n",
    "print(diabetes.DESCR)"
   ]
  },
  {
   "cell_type": "markdown",
   "metadata": {},
   "source": [
    "## Feature importance from coefficients\n",
    "\n",
    "To get an idea of the importance of the features, we are going to use the\n",
    ":class:`~sklearn.linear_model.RidgeCV` estimator. The features with the\n",
    "highest absolute `coef_` value are considered the most important.\n",
    "We can observe the coefficients directly without needing to scale them (or\n",
    "scale the data) because from the description above, we know that the features\n",
    "were already standardized.\n",
    "For a more complete example on the interpretations of the coefficients of\n",
    "linear models, you may refer to\n",
    "`sphx_glr_auto_examples_inspection_plot_linear_model_coefficient_interpretation.py`.\n",
    "\n"
   ]
  },
  {
   "cell_type": "code",
   "execution_count": 3,
   "metadata": {
    "collapsed": false,
    "jupyter": {
     "outputs_hidden": false
    }
   },
   "outputs": [
    {
     "data": {
      "image/png": "[encoded data removed]",
      "text/plain": [
       "<Figure size 432x288 with 1 Axes>"
      ]
     },
     "metadata": {
      "needs_background": "light"
     },
     "output_type": "display_data"
    }
   ],
   "source": [
    "import matplotlib.pyplot as plt\n",
    "import numpy as np\n",
    "from sklearn.linear_model import RidgeCV\n",
    "\n",
    "ridge = RidgeCV(alphas=np.logspace(-6, 6, num=5)).fit(X, y)\n",
    "importance = np.abs(ridge.coef_)\n",
    "feature_names = np.array(diabetes.feature_names)\n",
    "plt.bar(height=importance, x=feature_names)\n",
    "plt.title(\"Feature importances via coefficients\")\n",
    "plt.show()"
   ]
  },
  {
   "cell_type": "markdown",
   "metadata": {},
   "source": [
    "## Selecting features based on importance\n",
    "\n",
    "Now we want to select the two features which are the most important according\n",
    "to the coefficients. The :class:`~sklearn.feature_selection.SelectFromModel`\n",
    "is meant just for that. :class:`~sklearn.feature_selection.SelectFromModel`\n",
    "accepts a `threshold` parameter and will select the features whose importance\n",
    "(defined by the coefficients) are above this threshold.\n",
    "\n",
    "Since we want to select only 2 features, we will set this threshold slightly\n",
    "above the coefficient of third most important feature.\n",
    "\n"
   ]
  },
  {
   "cell_type": "code",
   "execution_count": 4,
   "metadata": {
    "collapsed": false,
    "jupyter": {
     "outputs_hidden": false
    }
   },
   "outputs": [
    {
     "name": "stdout",
     "output_type": "stream",
     "text": [
      "Features selected by SelectFromModel: ['s1' 's5']\n",
      "Done in 0.001s\n"
     ]
    }
   ],
   "source": [
    "from sklearn.feature_selection import SelectFromModel\n",
    "from time import time\n",
    "\n",
    "threshold = np.sort(importance)[-3] + 0.01\n",
    "\n",
    "tic = time()\n",
    "sfm = SelectFromModel(ridge, threshold=threshold).fit(X, y)\n",
    "toc = time()\n",
    "print(f\"Features selected by SelectFromModel: {feature_names[sfm.get_support()]}\")\n",
    "print(f\"Done in {toc - tic:.3f}s\")"
   ]
  },
  {
   "cell_type": "markdown",
   "metadata": {},
   "source": [
    "## Selecting features with Sequential Feature Selection\n",
    "\n",
    "Another way of selecting features is to use\n",
    ":class:`~sklearn.feature_selection.SequentialFeatureSelector`\n",
    "(SFS). SFS is a greedy procedure where, at each iteration, we choose the best\n",
    "new feature to add to our selected features based a cross-validation score.\n",
    "That is, we start with 0 features and choose the best single feature with the\n",
    "highest score. The procedure is repeated until we reach the desired number of\n",
    "selected features.\n",
    "\n",
    "We can also go in the reverse direction (backward SFS), *i.e.* start with all\n",
    "the features and greedily choose features to remove one by one. We illustrate\n",
    "both approaches here.\n",
    "\n"
   ]
  },
  {
   "cell_type": "code",
   "execution_count": 5,
   "metadata": {
    "collapsed": false,
    "jupyter": {
     "outputs_hidden": false
    }
   },
   "outputs": [
    {
     "name": "stdout",
     "output_type": "stream",
     "text": [
      "Features selected by forward sequential selection: ['bmi' 's5']\n",
      "Done in 0.096s\n",
      "Features selected by backward sequential selection: ['bmi' 's5']\n",
      "Done in 0.250s\n"
     ]
    }
   ],
   "source": [
    "from sklearn.feature_selection import SequentialFeatureSelector\n",
    "\n",
    "tic_fwd = time()\n",
    "sfs_forward = SequentialFeatureSelector(\n",
    "    ridge, n_features_to_select=2, direction=\"forward\"\n",
    ").fit(X, y)\n",
    "toc_fwd = time()\n",
    "\n",
    "tic_bwd = time()\n",
    "sfs_backward = SequentialFeatureSelector(\n",
    "    ridge, n_features_to_select=2, direction=\"backward\"\n",
    ").fit(X, y)\n",
    "toc_bwd = time()\n",
    "\n",
    "print(\n",
    "    \"Features selected by forward sequential selection: \"\n",
    "    f\"{feature_names[sfs_forward.get_support()]}\"\n",
    ")\n",
    "print(f\"Done in {toc_fwd - tic_fwd:.3f}s\")\n",
    "print(\n",
    "    \"Features selected by backward sequential selection: \"\n",
    "    f\"{feature_names[sfs_backward.get_support()]}\"\n",
    ")\n",
    "print(f\"Done in {toc_bwd - tic_bwd:.3f}s\")"
   ]
  },
  {
   "cell_type": "markdown",
   "metadata": {},
   "source": [
    "## Discussion\n",
    "\n",
    "Interestingly, forward and backward selection have selected the same set of\n",
    "features. In general, this isn't the case and the two methods would lead to\n",
    "different results.\n",
    "\n",
    "We also note that the features selected by SFS differ from those selected by\n",
    "feature importance: SFS selects `bmi` instead of `s1`. This does sound\n",
    "reasonable though, since `bmi` corresponds to the third most important\n",
    "feature according to the coefficients. It is quite remarkable considering\n",
    "that SFS makes no use of the coefficients at all.\n",
    "\n",
    "To finish with, we should note that\n",
    ":class:`~sklearn.feature_selection.SelectFromModel` is significantly faster\n",
    "than SFS. Indeed, :class:`~sklearn.feature_selection.SelectFromModel` only\n",
    "needs to fit a model once, while SFS needs to cross-validate many different\n",
    "models for each of the iterations. SFS however works with any model, while\n",
    ":class:`~sklearn.feature_selection.SelectFromModel` requires the underlying\n",
    "estimator to expose a `coef_` attribute or a `feature_importances_`\n",
    "attribute. The forward SFS is faster than the backward SFS because it only\n",
    "needs to perform `n_features_to_select = 2` iterations, while the backward\n",
    "SFS needs to perform `n_features - n_features_to_select = 8` iterations.\n",
    "\n"
   ]
  }
 ],
 "metadata": {
  "kernelspec": {
   "display_name": "Python 3 (ipykernel)",
   "language": "python",
   "name": "python3"
  },
  "language_info": {
   "codemirror_mode": {
    "name": "ipython",
    "version": 3
   },
   "file_extension": ".py",
   "mimetype": "text/x-python",
   "name": "python",
   "nbconvert_exporter": "python",
   "pygments_lexer": "ipython3",
   "version": "3.9.7"
  }
 },
 "nbformat": 4,
 "nbformat_minor": 4
}
