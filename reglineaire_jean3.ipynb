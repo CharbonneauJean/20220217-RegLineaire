{
 "cells": [
  {
   "cell_type": "code",
   "execution_count": 1,
   "id": "37eef56e-7270-4287-b0d0-b2725ba2a283",
   "metadata": {},
   "outputs": [],
   "source": [
    "import pandas as pd\n",
    "import numpy as np\n",
    "import seaborn as sns\n",
    "import matplotlib.pyplot as plt\n",
    "import plotly.express as px\n",
    "from scipy.stats import ttest_1samp"
   ]
  },
  {
   "cell_type": "code",
   "execution_count": 2,
   "id": "ae8553f8-89c0-4ce9-9ac6-7ec58ca1c9d1",
   "metadata": {},
   "outputs": [],
   "source": [
    "df = pd.read_csv('50_Startups.csv', delimiter=';')"
   ]
  },
  {
   "cell_type": "code",
   "execution_count": 3,
   "id": "0bca8e7c-48d6-4867-8e53-6e3f938821b7",
   "metadata": {},
   "outputs": [],
   "source": [
    "X = df.drop(['Profit'],axis=1)\n",
    "\n",
    "y = df['Profit']"
   ]
  },
  {
   "cell_type": "code",
   "execution_count": 15,
   "id": "6ad80708-77ad-4edf-bc45-efa0f66283c7",
   "metadata": {},
   "outputs": [
    {
     "data": {
      "text/html": [
       "<div>\n",
       "<style scoped>\n",
       "    .dataframe tbody tr th:only-of-type {\n",
       "        vertical-align: middle;\n",
       "    }\n",
       "\n",
       "    .dataframe tbody tr th {\n",
       "        vertical-align: top;\n",
       "    }\n",
       "\n",
       "    .dataframe thead th {\n",
       "        text-align: right;\n",
       "    }\n",
       "</style>\n",
       "<table border=\"1\" class=\"dataframe\">\n",
       "  <thead>\n",
       "    <tr style=\"text-align: right;\">\n",
       "      <th></th>\n",
       "      <th>Profit</th>\n",
       "    </tr>\n",
       "    <tr>\n",
       "      <th>villes</th>\n",
       "      <th></th>\n",
       "    </tr>\n",
       "  </thead>\n",
       "  <tbody>\n",
       "    <tr>\n",
       "      <th>Lyon</th>\n",
       "      <td>118774.024375</td>\n",
       "    </tr>\n",
       "    <tr>\n",
       "      <th>Paris</th>\n",
       "      <td>113756.446471</td>\n",
       "    </tr>\n",
       "    <tr>\n",
       "      <th>Strasbourg</th>\n",
       "      <td>103905.175294</td>\n",
       "    </tr>\n",
       "  </tbody>\n",
       "</table>\n",
       "</div>"
      ],
      "text/plain": [
       "                   Profit\n",
       "villes                   \n",
       "Lyon        118774.024375\n",
       "Paris       113756.446471\n",
       "Strasbourg  103905.175294"
      ]
     },
     "execution_count": 15,
     "metadata": {},
     "output_type": "execute_result"
    }
   ],
   "source": [
    "df[['villes','Profit']].groupby('villes').mean('Profit')"
   ]
  },
  {
   "cell_type": "markdown",
   "id": "07a322d2-c236-44e3-9323-bfa1cb06bd71",
   "metadata": {},
   "source": [
    "### On constate que les startups de Lyon ont en moyenne un meilleur profit."
   ]
  },
  {
   "cell_type": "markdown",
   "id": "bf20f89f-a65b-4335-8408-5682424937a0",
   "metadata": {},
   "source": [
    "### On encode la ville afin de pouvoir utiliser la feature selection qui sinon ne marche pas avec les chaines de caractères"
   ]
  },
  {
   "cell_type": "code",
   "execution_count": 4,
   "id": "53f54d71-fe42-4200-9807-041843f76eb9",
   "metadata": {},
   "outputs": [],
   "source": [
    "from sklearn.preprocessing import LabelEncoder\n",
    "labelencoder = LabelEncoder()\n",
    "X['villes'] = labelencoder.fit_transform(X['villes'])"
   ]
  },
  {
   "cell_type": "markdown",
   "id": "8f92c29b-b58e-4451-8c0c-3f78a4510173",
   "metadata": {},
   "source": [
    "### Utilisation de SelectKBest avec f_regression"
   ]
  },
  {
   "cell_type": "code",
   "execution_count": 5,
   "id": "b0226e6b-8220-4b86-92f6-c427c5b25394",
   "metadata": {},
   "outputs": [
    {
     "data": {
      "text/plain": [
       "(array([849.7889044 ,   2.01495972,  60.88145448,   1.13261424]),\n",
       " array([3.50032224e-32, 1.62217395e-01, 4.38107318e-10, 2.92543007e-01]))"
      ]
     },
     "execution_count": 5,
     "metadata": {},
     "output_type": "execute_result"
    }
   ],
   "source": [
    "from sklearn.feature_selection import f_regression\n",
    "f_regression(X,y)"
   ]
  },
  {
   "cell_type": "code",
   "execution_count": 6,
   "id": "cfb62e08-9722-4cff-9515-f510dbf5ddd4",
   "metadata": {},
   "outputs": [
    {
     "data": {
      "text/plain": [
       "Index(['R&D', 'Administration', 'Marketing', 'villes'], dtype='object')"
      ]
     },
     "execution_count": 6,
     "metadata": {},
     "output_type": "execute_result"
    }
   ],
   "source": [
    "X.columns"
   ]
  },
  {
   "cell_type": "markdown",
   "id": "6d5d2e08-f308-4008-9e7d-a98751db0b25",
   "metadata": {},
   "source": [
    "### f_regression\n",
    "Univariate linear regression tests returning F-statistic and p-values.\n",
    "\n",
    "Selon ce test, on constate que Administration et villes sont des variables à faible intérêt pour notre modèle."
   ]
  },
  {
   "cell_type": "code",
   "execution_count": 7,
   "id": "0810fbab-f264-4077-9882-41d08aaa0df5",
   "metadata": {},
   "outputs": [
    {
     "data": {
      "text/plain": [
       "array([ True, False,  True, False])"
      ]
     },
     "execution_count": 7,
     "metadata": {},
     "output_type": "execute_result"
    }
   ],
   "source": [
    "from sklearn.feature_selection import SelectKBest\n",
    "selector = SelectKBest(f_regression, k=2)\n",
    "selector.fit_transform(X,y)\n",
    "\n",
    "selector.get_support()"
   ]
  },
  {
   "cell_type": "markdown",
   "id": "2c4d013c-9d30-41c4-8e0a-53727e57e2ff",
   "metadata": {},
   "source": [
    "### effectivement, SelectKBest élimine Administration et villes"
   ]
  }
 ],
 "metadata": {
  "kernelspec": {
   "display_name": "Python 3 (ipykernel)",
   "language": "python",
   "name": "python3"
  },
  "language_info": {
   "codemirror_mode": {
    "name": "ipython",
    "version": 3
   },
   "file_extension": ".py",
   "mimetype": "text/x-python",
   "name": "python",
   "nbconvert_exporter": "python",
   "pygments_lexer": "ipython3",
   "version": "3.9.7"
  }
 },
 "nbformat": 4,
 "nbformat_minor": 5
}
